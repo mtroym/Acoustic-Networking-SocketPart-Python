{
 "cells": [
  {
   "cell_type": "code",
   "execution_count": 5,
   "metadata": {},
   "outputs": [
    {
     "name": "stdout",
     "output_type": "stream",
     "text": [
      "set the address at[10.19.74.87:1234]\n"
     ]
    }
   ],
   "source": [
    "import socket\n",
    "import time\n",
    "sender = True\n",
    "# ** object setting\n",
    "object_IP = '10.20.196.117'\n",
    "objcet_port = 1234\n",
    "object_addr = (object_IP, objcet_port )\n",
    "object_addr_str = '[' + object_addr[0] + \":\"+ str(object_addr[1]) + ']'\n",
    "# ** local setting\n",
    "s = socket.socket(socket.AF_INET, socket.SOCK_DGRAM)\n",
    "my_IP = socket.gethostbyname(socket.gethostname())\n",
    "my_port = 1234\n",
    "my_add = (my_IP, my_port)\n",
    "my_addr_str = '['+ str(my_IP) +':'+str(my_port)+']'\n",
    "\n",
    "s.bind((my_IP, my_port))\n",
    "print(\"set the address at\" + my_addr)\n",
    "##########################################\n",
    "payload = \"1234567890\" * 10\n",
    "start_time = time.time()\n",
    "count = 0;\n",
    "##########################################\n",
    "while 1:\n",
    "    if sender :\n",
    "        time_diff = time.time() - start_time\n",
    "        if (count >= 10.0):\n",
    "            break;\n",
    "        if (time_diff > 1 and int(time_diff * 1000) % 1000 == 0):\n",
    "            s.sendto(payload, object_addr)\n",
    "            start_time += 1\n",
    "            count += 1\n",
    "#             data, (addr, port) = s.recvfrom(1024)\n",
    "#             msg = data.decode('utf-8')\n",
    "#             print( my_addr + '->'+object_addr_str+' : ' + msg)\n",
    "    else:\n",
    "        data, (addr, port) = s.recvfrom(1024)\n",
    "        payload_len = len(data)*8\n",
    "        info = 'payload:' + str(payload_len) +' Bytes'\n",
    "        other_addr =  '[' + str(addr)+':'+str(port) + ']'\n",
    "        print(my_addr + '->' + other_addr + ' : ' + info ) \n",
    "        s.sendto(b'got one!', (addr, port))\n",
    "s.close()"
   ]
  },
  {
   "cell_type": "code",
   "execution_count": 4,
   "metadata": {},
   "outputs": [
    {
     "name": "stdout",
     "output_type": "stream",
     "text": [
      "6\n"
     ]
    }
   ],
   "source": [
    "print(len(b'123123'))"
   ]
  },
  {
   "cell_type": "code",
   "execution_count": 13,
   "metadata": {},
   "outputs": [
    {
     "data": {
      "text/plain": [
       "8"
      ]
     },
     "execution_count": 13,
     "metadata": {},
     "output_type": "execute_result"
    }
   ],
   "source": [
    "s.sendto(b'got one!', (addr, port))"
   ]
  },
  {
   "cell_type": "code",
   "execution_count": null,
   "metadata": {},
   "outputs": [],
   "source": []
  }
 ],
 "metadata": {
  "kernelspec": {
   "display_name": "Python 2",
   "language": "python",
   "name": "python2"
  },
  "language_info": {
   "codemirror_mode": {
    "name": "ipython",
    "version": 2
   },
   "file_extension": ".py",
   "mimetype": "text/x-python",
   "name": "python",
   "nbconvert_exporter": "python",
   "pygments_lexer": "ipython2",
   "version": "2.7.14"
  }
 },
 "nbformat": 4,
 "nbformat_minor": 2
}
